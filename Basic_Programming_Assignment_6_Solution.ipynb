{
  "cells": [
    {
      "cell_type": "markdown",
      "id": "51b0b0f1",
      "metadata": {
        "id": "51b0b0f1"
      },
      "source": [
        "# Basic_Programming_Assignment_6 Solution :-\n",
        "SUBMITTED BY : MD MUMTAZ ALAM"
      ]
    },
    {
      "cell_type": "markdown",
      "id": "bba86553",
      "metadata": {
        "id": "bba86553"
      },
      "source": [
        "## 1. Write a Python Program to Display Fibonacci Sequence using Recursion ?"
      ]
    },
    {
      "cell_type": "code",
      "execution_count": null,
      "id": "870ef73a",
      "metadata": {
        "id": "870ef73a",
        "outputId": "0f88bf61-1388-4c63-8e27-41f7fbec202b"
      },
      "outputs": [
        {
          "name": "stdout",
          "output_type": "stream",
          "text": [
            "Enter the length of Series: 22\n",
            "0, 1, 3, 5, 8, 13, 21, 34, 55, 89, 144, 233, 377, 610, 987, 1597, 2584, 4181, 6765, 10946, 17711, 28657, 46368, 75025, "
          ]
        }
      ],
      "source": [
        "def genFibonacci(n,a,b):\n",
        "    if n == 0:\n",
        "        return 1\n",
        "    else:\n",
        "        result = a+b\n",
        "        print(result, end=', ')\n",
        "        genFibonacci(n-1,b,result)\n",
        "in_num = int(input('Enter the length of Series: '))\n",
        "print('0, 1',end=', ')\n",
        "genFibonacci(in_num,1,2)"
      ]
    },
    {
      "cell_type": "markdown",
      "id": "e1625a49",
      "metadata": {
        "id": "e1625a49"
      },
      "source": [
        "## 2. Write a Python Program to Find Factorial of a Number using Recursion ?"
      ]
    },
    {
      "cell_type": "code",
      "execution_count": null,
      "id": "62e3a55b",
      "metadata": {
        "id": "62e3a55b",
        "outputId": "fbae9589-2135-483c-e4fe-4193a0bb6564"
      },
      "outputs": [
        {
          "name": "stdout",
          "output_type": "stream",
          "text": [
            "Enter a number: 7\n",
            "The Factorial of 7 is 5040\n"
          ]
        }
      ],
      "source": [
        "def factorial(num):\n",
        "    if (num < 1):\n",
        "        return 1\n",
        "    else:\n",
        "        return num*factorial(num-1)\n",
        "num = int(input('Enter a number: '))\n",
        "value = factorial(num)\n",
        "print(f'The Factorial of {num} is {value}')"
      ]
    },
    {
      "cell_type": "markdown",
      "id": "fec6b3c6",
      "metadata": {
        "id": "fec6b3c6"
      },
      "source": [
        "## 3. Write a Python Program to Calculate your Body Mass Index ?"
      ]
    },
    {
      "cell_type": "code",
      "execution_count": null,
      "id": "447049aa",
      "metadata": {
        "id": "447049aa",
        "outputId": "8ebefc41-94d8-49ac-a3d9-69c78a2e929a"
      },
      "outputs": [
        {
          "name": "stdout",
          "output_type": "stream",
          "text": [
            "Enter your Weight(kgs): 120\n",
            "Enter your Height(mts): 5.6\n",
            "Your're BMI is 3.8265306122448983 and status is Underweight \n"
          ]
        }
      ],
      "source": [
        "def calculateBMI():\n",
        "    in_weight = eval(input('Enter your Weight(kgs): '))\n",
        "    in_height = eval(input('Enter your Height(mts): '))\n",
        "    calc_bmi = in_weight/pow(in_height,2)\n",
        "    if (calc_bmi < 18.5):\n",
        "        status = 'Underweight'\n",
        "    elif (calc_bmi >= 18.5 and calc_bmi < 24.9):\n",
        "        status = 'Healthy'\n",
        "    elif (calc_bmi >= 24.9 and calc_bmi < 30):\n",
        "        status = 'Overweight'\n",
        "    elif (calc_bmi >=30):\n",
        "        status = 'Suffering from Obesity'\n",
        "    print(f'Your\\'re BMI is {calc_bmi} and status is {status} ')\n",
        "calculateBMI()"
      ]
    },
    {
      "cell_type": "markdown",
      "id": "933452b4",
      "metadata": {
        "id": "933452b4"
      },
      "source": [
        "## 4. Write a Python Program to Calculate the Natural Logarithm of any Number ?"
      ]
    },
    {
      "cell_type": "code",
      "execution_count": null,
      "id": "49bbbd0f",
      "metadata": {
        "id": "49bbbd0f",
        "outputId": "265dfb6b-bee6-445f-d087-a5bb9df66f34"
      },
      "outputs": [
        {
          "name": "stdout",
          "output_type": "stream",
          "text": [
            "Enter a Number:7\n",
            "1.9459101490553132\n"
          ]
        }
      ],
      "source": [
        "import math\n",
        "def genNatLog():\n",
        "    in_num = eval(input(\"Enter a Number:\"))\n",
        "    print(math.log(in_num))\n",
        "\n",
        "genNatLog()"
      ]
    },
    {
      "cell_type": "markdown",
      "id": "bf131103",
      "metadata": {
        "id": "bf131103"
      },
      "source": [
        "## 5. Write a Python Program for Cube sum of first n Natural Numbers ?"
      ]
    },
    {
      "cell_type": "code",
      "execution_count": null,
      "id": "55487444",
      "metadata": {
        "id": "55487444",
        "outputId": "4051fe34-7631-491a-9752-11671a6584f7"
      },
      "outputs": [
        {
          "name": "stdout",
          "output_type": "stream",
          "text": [
            "Enter the no of Natural Numbers: 111\n",
            "The Cube Sum of First 111 Natural Numbers is 38638656.0\n"
          ]
        }
      ],
      "source": [
        "def cubeOfNaturalNumbers():\n",
        "    in_num = int(input(\"Enter the no of Natural Numbers: \"))\n",
        "    result = pow(((in_num * (in_num +1))/2),2)\n",
        "    print(f'The Cube Sum of First {in_num} Natural Numbers is {result}')\n",
        "\n",
        "cubeOfNaturalNumbers()"
      ]
    },
    {
      "cell_type": "markdown",
      "id": "68626936",
      "metadata": {
        "id": "68626936"
      },
      "source": [
        "# Thank You"
      ]
    }
  ],
  "metadata": {
    "kernelspec": {
      "display_name": "Python 3 (ipykernel)",
      "language": "python",
      "name": "python3"
    },
    "language_info": {
      "codemirror_mode": {
        "name": "ipython",
        "version": 3
      },
      "file_extension": ".py",
      "mimetype": "text/x-python",
      "name": "python",
      "nbconvert_exporter": "python",
      "pygments_lexer": "ipython3",
      "version": "3.9.7"
    },
    "colab": {
      "provenance": []
    }
  },
  "nbformat": 4,
  "nbformat_minor": 5
}